{
 "cells": [
  {
   "cell_type": "markdown",
   "metadata": {
    "application/vnd.databricks.v1+cell": {
     "cellMetadata": {
      "byteLimit": 2048000,
      "rowLimit": 10000
     },
     "inputWidgets": {},
     "nuid": "620209e4-2e2c-4686-8303-0fb7e73d87e1",
     "showTitle": false,
     "tableResultSettingsMap": {},
     "title": ""
    }
   },
   "source": [
    "# Relatório Exploratório - Incidentes de Incêndio em San Francisco\n",
    " Esse notebook utiliza os dados processados e agregados na **Camada Gold** para eventuais consultas nas tabelas SQL.\n",
    "## Consultas\n",
    " * O número total de incidentes ao longo do tempo (por ano e mês). \n",
    " * Os distritos com maior e menor número de incidentes. \n",
    " * O total de perdas estimadas (propriedade e conteúdo) por batalhão. \n",
    " * Os tipos de incidentes mais comuns.\n",
    "## Fonte de Dados:\n",
    "Os dados para este relatório são provenientes das seguintes tabelas agregadas na Camada Gold: \n",
    "  * `fire_incidents_gold_by_time`: Agregações por ano e mês. \n",
    "  * `fire_incidents_gold_by_district`: Agregações por distrito. \n",
    "  * `fire_incidents_gold_by_battalion`: Agregações por batalhão."
   ]
  },
  {
   "cell_type": "code",
   "execution_count": 0,
   "metadata": {
    "application/vnd.databricks.v1+cell": {
     "cellMetadata": {
      "byteLimit": 2048000,
      "rowLimit": 10000
     },
     "inputWidgets": {},
     "nuid": "291ad52c-4d7e-46ad-920e-ca6e856bf437",
     "showTitle": false,
     "tableResultSettingsMap": {},
     "title": ""
    }
   },
   "outputs": [],
   "source": [
    "\n",
    "# Importar bibliotecas necessárias para consultas e visualizações\n",
    "from pyspark.sql.functions import col, desc, sum, count\n",
    "from pyspark.sql.types import LongType, DoubleType, StringType, DateType\n",
    "\n",
    "# Nomes das Tabelas Gold \n",
    "gold_agg_by_time_simple = \"fire_incidents_gold_by_time\"\n",
    "gold_agg_by_district_simple = \"fire_incidents_gold_by_district\"\n",
    "gold_agg_by_battalion_simple = \"fire_incidents_gold_by_battalion\"\n",
    "\n",
    "print(\"Tabelas Gold disponíveis para consulta:\")\n",
    "print(f\"- Por Tempo (Ano/Mês): {gold_agg_by_time_simple}\")\n",
    "print(f\"- Por Distrito: {gold_agg_by_district_simple}\")\n",
    "print(f\"- Por Batalhão: {gold_agg_by_battalion_simple}\")"
   ]
  },
  {
   "cell_type": "markdown",
   "metadata": {
    "application/vnd.databricks.v1+cell": {
     "cellMetadata": {
      "byteLimit": 2048000,
      "rowLimit": 10000
     },
     "inputWidgets": {},
     "nuid": "1b3e5f3b-5d69-43e0-b642-5b9ceb3942ce",
     "showTitle": false,
     "tableResultSettingsMap": {},
     "title": ""
    }
   },
   "source": [
    "## 1. Tendência de Incidentes ao Longo do Tempo (Ano e Mês):\n",
    "Esta seção visualiza o número total de incidentes e as perdas estimadas ao longo dos anos e meses.\n"
   ]
  },
  {
   "cell_type": "code",
   "execution_count": 0,
   "metadata": {
    "application/vnd.databricks.v1+cell": {
     "cellMetadata": {
      "byteLimit": 2048000,
      "implicitDf": true,
      "rowLimit": 10000
     },
     "inputWidgets": {},
     "nuid": "3ecad3c0-9486-4afd-a33a-0570b29a8cf5",
     "showTitle": false,
     "tableResultSettingsMap": {},
     "title": ""
    }
   },
   "outputs": [],
   "source": [
    "%sql\n",
    "SELECT\n",
    "  incident_year,\n",
    "  incident_month,\n",
    "  total_incidents,\n",
    "  total_property_loss,\n",
    "  total_contents_loss\n",
    "FROM\n",
    "  fire_incidents_gold_by_time\n",
    "ORDER BY\n",
    "  incident_year,\n",
    "  incident_month;"
   ]
  },
  {
   "cell_type": "markdown",
   "metadata": {
    "application/vnd.databricks.v1+cell": {
     "cellMetadata": {
      "byteLimit": 2048000,
      "rowLimit": 10000
     },
     "inputWidgets": {},
     "nuid": "c63f9a1a-dcb5-4cfe-9689-917e70086801",
     "showTitle": false,
     "tableResultSettingsMap": {},
     "title": ""
    }
   },
   "source": [
    "## 2. Top 10 Distritos com Mais Incidentes:\n",
    "Esta visualização destaca os dez distritos com a maior ocorrência de incidentes de incêndio."
   ]
  },
  {
   "cell_type": "code",
   "execution_count": 0,
   "metadata": {
    "application/vnd.databricks.v1+cell": {
     "cellMetadata": {
      "byteLimit": 2048000,
      "implicitDf": true,
      "rowLimit": 10000
     },
     "inputWidgets": {},
     "nuid": "576ada34-7016-4673-8af5-7627d611c434",
     "showTitle": false,
     "tableResultSettingsMap": {},
     "title": ""
    }
   },
   "outputs": [],
   "source": [
    "%sql\n",
    "SELECT\n",
    "  district_name,\n",
    "  total_incidents,\n",
    "  total_property_loss,\n",
    "  total_contents_loss\n",
    "FROM\n",
    "  fire_incidents_gold_by_district\n",
    "ORDER BY\n",
    "  total_incidents DESC\n",
    "LIMIT 10;"
   ]
  },
  {
   "cell_type": "markdown",
   "metadata": {
    "application/vnd.databricks.v1+cell": {
     "cellMetadata": {
      "byteLimit": 2048000,
      "rowLimit": 10000
     },
     "inputWidgets": {},
     "nuid": "4c4607fe-346d-4fdd-8766-5b3911136a17",
     "showTitle": false,
     "tableResultSettingsMap": {},
     "title": ""
    }
   },
   "source": [
    "## 3. Análise de Perdas Estimadas por Batalhão:\n",
    "Esta seção mostra o total de perdas estimadas (propriedade e conteúdo) por batalhão."
   ]
  },
  {
   "cell_type": "code",
   "execution_count": 0,
   "metadata": {
    "application/vnd.databricks.v1+cell": {
     "cellMetadata": {
      "byteLimit": 2048000,
      "implicitDf": true,
      "rowLimit": 10000
     },
     "inputWidgets": {},
     "nuid": "78a3ff95-9f2a-4ab3-9cdf-1d801f16c1d8",
     "showTitle": false,
     "tableResultSettingsMap": {},
     "title": ""
    }
   },
   "outputs": [],
   "source": [
    "%sql\n",
    "SELECT\n",
    "  battalion_id,\n",
    "  total_incidents,\n",
    "  total_property_loss,\n",
    "  total_contents_loss\n",
    "FROM\n",
    "  fire_incidents_gold_by_battalion\n",
    "ORDER BY\n",
    "  total_property_loss DESC;"
   ]
  },
  {
   "cell_type": "markdown",
   "metadata": {
    "application/vnd.databricks.v1+cell": {
     "cellMetadata": {
      "byteLimit": 2048000,
      "rowLimit": 10000
     },
     "inputWidgets": {},
     "nuid": "a800eaf8-5e84-47f2-8e50-f0455e3e6e4b",
     "showTitle": false,
     "tableResultSettingsMap": {},
     "title": ""
    }
   },
   "source": [
    "## 4. Os tipos de incidentes mais comuns.\n",
    " Para uma análise mais detalhada sobre os tipos de incidentes, podemos consultar a Camada Silver, que contém os dados limpos mas ainda não agregados por tipo de situação."
   ]
  },
  {
   "cell_type": "code",
   "execution_count": 0,
   "metadata": {
    "application/vnd.databricks.v1+cell": {
     "cellMetadata": {
      "byteLimit": 2048000,
      "implicitDf": true,
      "rowLimit": 10000
     },
     "inputWidgets": {},
     "nuid": "26968afa-3681-44b6-9444-5a4abc1cfbba",
     "showTitle": false,
     "tableResultSettingsMap": {},
     "title": ""
    }
   },
   "outputs": [],
   "source": [
    "%sql\n",
    "SELECT\n",
    "  `Primary Situation`,\n",
    "  COUNT(ID) AS total_occurrences\n",
    "FROM\n",
    "  fire_incidents_silver\n",
    "WHERE\n",
    "  `Primary Situation` IS NOT NULL\n",
    "GROUP BY\n",
    "  `Primary Situation`\n",
    "ORDER BY\n",
    "  total_occurrences DESC\n",
    "LIMIT 10;"
   ]
  }
 ],
 "metadata": {
  "application/vnd.databricks.v1+notebook": {
   "computePreferences": null,
   "dashboards": [],
   "environmentMetadata": {
    "base_environment": "",
    "environment_version": "2"
   },
   "inputWidgetPreferences": null,
   "language": "python",
   "notebookMetadata": {
    "mostRecentlyExecutedCommandWithImplicitDF": {
     "commandId": 5610129148232918,
     "dataframes": [
      "_sqldf"
     ]
    },
    "pythonIndentUnit": 4
   },
   "notebookName": "4-Relatório_Exploratório",
   "widgets": {}
  },
  "language_info": {
   "name": "python"
  }
 },
 "nbformat": 4,
 "nbformat_minor": 0
}
