{
 "cells": [
  {
   "cell_type": "markdown",
   "metadata": {
    "application/vnd.databricks.v1+cell": {
     "cellMetadata": {},
     "inputWidgets": {},
     "nuid": "0597f8c0-3920-4931-900e-8e4cf8c50f2a",
     "showTitle": false,
     "tableResultSettingsMap": {},
     "title": ""
    }
   },
   "source": [
    "# Camada Gold\n",
    "Essa etapa contém dados agregados e otimizados para consultas e consumo por ferramentas de BI.\n",
    "\n",
    "## Objetivos:\n",
    "- Efetuei a leitura dos dados da tabela Delta da Camada Silver.\n",
    "\n",
    "- Criei tabelas agregadas por período (ano/mês), distrito e batalhão.\n",
    "\n",
    "- As tabelas Gold criadas estão no formato Delta e são gerenciadas pelo Unity Catalog.\n",
    "\n",
    "## Decisões Técnicas:\n",
    "- Novamente tentei me ater ao paralelismo, por isso as operações como _GroupBy_ (agrupamento) e _Agg_ (agregação) são executadas de forma paralela pelo Spark.\n",
    "\n",
    "-  As agregações são calculadas e armazenadas previamente em tabelas separadas.\n",
    "\n",
    "- Optei por utilizar _\"overwrite\"_ na escrita para reescrever os dados com os valores mais recentes das camadas anteriores.\n",
    "\n"
   ]
  },
  {
   "cell_type": "code",
   "execution_count": 0,
   "metadata": {
    "application/vnd.databricks.v1+cell": {
     "cellMetadata": {
      "byteLimit": 2048000,
      "rowLimit": 10000
     },
     "inputWidgets": {},
     "nuid": "5fce9efa-2a31-4ea1-9cde-a0b4c883ebff",
     "showTitle": false,
     "tableResultSettingsMap": {},
     "title": ""
    }
   },
   "outputs": [],
   "source": [
    "# Importando as bibliotecas necessárias para agregações\n",
    "from pyspark.sql.functions import col, count, sum, year, month, dayofmonth, to_date, lit, current_timestamp\n",
    "from pyspark.sql.types import LongType, DoubleType, StringType, DateType\n",
    "\n",
    "# Tabela Silver como fonte\n",
    "silver_table_name_full = \"`workspace`.`default`.`fire_incidents_silver`\"\n",
    "silver_table_name_simple = \"fire_incidents_silver\"\n",
    "\n",
    "# Tabelas Gold como destino\n",
    "gold_agg_by_time_full = \"`workspace`.`default`.`fire_incidents_gold_by_time`\"\n",
    "gold_agg_by_time_simple = \"fire_incidents_gold_by_time\"\n",
    "\n",
    "gold_agg_by_district_full = \"`workspace`.`default`.`fire_incidents_gold_by_district`\"\n",
    "gold_agg_by_district_simple = \"fire_incidents_gold_by_district\"\n",
    "\n",
    "gold_agg_by_battalion_full = \"`workspace`.`default`.`fire_incidents_gold_by_battalion`\"\n",
    "gold_agg_by_battalion_simple = \"fire_incidents_gold_by_battalion\"\n",
    "\n",
    "print(f\"Fonte de dados (Camada Silver): {silver_table_name_full}\")\n",
    "print(f\"Destino de dados (Gold - Por Tempo): {gold_agg_by_time_full}\")\n",
    "print(f\"Destino de dados (Gold - Por Distrito): {gold_agg_by_district_full}\")\n",
    "print(f\"Destino de dados (Gold - Por Batalhão): {gold_agg_by_battalion_full}\")"
   ]
  },
  {
   "cell_type": "code",
   "execution_count": 0,
   "metadata": {
    "application/vnd.databricks.v1+cell": {
     "cellMetadata": {
      "byteLimit": 2048000,
      "rowLimit": 10000
     },
     "inputWidgets": {},
     "nuid": "818a04e7-4e96-473e-8fa2-29b2c5d60d21",
     "showTitle": false,
     "tableResultSettingsMap": {},
     "title": ""
    }
   },
   "outputs": [],
   "source": [
    "# Lendo os dados da camada Silver\n",
    "print(f\"\\nLendo dados da Camada Silver ({silver_table_name_full})...\")\n",
    "\n",
    "silver_df = spark.table(silver_table_name_simple)\n",
    "\n",
    "print(\"Schema da Camada Silver (esperado com tipos corretos e nulos tratados):\")\n",
    "silver_df.printSchema()\n",
    "print(f\"Total de registros lidos da Camada Silver: {silver_df.count()}\")"
   ]
  },
  {
   "cell_type": "code",
   "execution_count": 0,
   "metadata": {
    "application/vnd.databricks.v1+cell": {
     "cellMetadata": {
      "byteLimit": 2048000,
      "rowLimit": 10000
     },
     "inputWidgets": {},
     "nuid": "7dd65ce5-8027-4b08-bcd5-0551492d650a",
     "showTitle": false,
     "tableResultSettingsMap": {},
     "title": ""
    }
   },
   "outputs": [],
   "source": [
    "# Agregando por Ano/Mês\n",
    "print(\"\\nCriando agregação Gold por Tempo (Ano/Mês)...\")\n",
    "\n",
    "silver_df_cleaned_dates = silver_df.withColumn(\"Incident Date\", col(\"Incident Date\").cast(DateType()))\n",
    "\n",
    "gold_by_time_df = silver_df_cleaned_dates.groupBy(year(col(\"Incident Date\")).alias(\"incident_year\"),\n",
    "                                                  month(col(\"Incident Date\")).alias(\"incident_month\")) \\\n",
    "                                           .agg(count(\"ID\").alias(\"total_incidents\"), # Contagem de incidentes únicos\n",
    "                                                sum(\"Estimated Property Loss\").alias(\"total_property_loss\"), # Soma de perdas\n",
    "                                                sum(\"Estimated Contents Loss\").alias(\"total_contents_loss\")) \\\n",
    "                                           .withColumn(\"gold_loaded_at\", current_timestamp()) # Metadado de carga\n",
    "\n",
    "print(\"\\nSchema da Tabela Gold (Por Tempo):\")\n",
    "gold_by_time_df.printSchema()\n",
    "print(f\"Total de registros na Gold (Por Tempo): {gold_by_time_df.count()}\")\n",
    "\n",
    "# Salvando a tabela Gold por Tempo\n",
    "gold_by_time_df.write \\\n",
    "               .format(\"delta\") \\\n",
    "               .mode(\"overwrite\") \\\n",
    "               .option(\"overwriteSchema\", \"true\") \\\n",
    "               .option(\"delta.columnMapping.mode\", \"name\") \\\n",
    "               .saveAsTable(gold_agg_by_time_simple)\n",
    "print(f\"Tabela Gold '{gold_agg_by_time_full}' salva com sucesso.\")\n",
    "\n",
    "# Agregando por Distrito\n",
    "print(\"\\nCriando agregação Gold por Distrito...\")\n",
    "\n",
    "gold_by_district_df = silver_df.groupBy(col(\"neighborhood_district\").alias(\"district_name\")) \\\n",
    "                                 .agg(count(\"ID\").alias(\"total_incidents\"),\n",
    "                                      sum(\"Estimated Property Loss\").alias(\"total_property_loss\"),\n",
    "                                      sum(\"Estimated Contents Loss\").alias(\"total_contents_loss\")) \\\n",
    "                                 .withColumn(\"gold_loaded_at\", current_timestamp())\n",
    "\n",
    "print(\"\\nSchema da Tabela Gold (Por Distrito):\")\n",
    "gold_by_district_df.printSchema()\n",
    "print(f\"Total de registros na Gold (Por Distrito): {gold_by_district_df.count()}\")\n",
    "\n",
    "# Salvando a tabela Gold por Distrito\n",
    "gold_by_district_df.write \\\n",
    "                   .format(\"delta\") \\\n",
    "                   .mode(\"overwrite\") \\\n",
    "                   .option(\"overwriteSchema\", \"true\") \\\n",
    "                   .option(\"delta.columnMapping.mode\", \"name\") \\\n",
    "                   .saveAsTable(gold_agg_by_district_simple)\n",
    "print(f\"Tabela Gold '{gold_agg_by_district_full}' salva com sucesso.\")\n",
    "\n",
    "# Agregando por Batalhão\n",
    "print(\"\\nCriando agregação Gold por Batalhão...\")\n",
    "\n",
    "gold_by_battalion_df = silver_df.groupBy(col(\"Battalion\").alias(\"battalion_id\")) \\\n",
    "                                 .agg(count(\"ID\").alias(\"total_incidents\"),\n",
    "                                      sum(\"Estimated Property Loss\").alias(\"total_property_loss\"),\n",
    "                                      sum(\"Estimated Contents Loss\").alias(\"total_contents_loss\")) \\\n",
    "                                 .withColumn(\"gold_loaded_at\", current_timestamp())\n",
    "\n",
    "print(\"\\nSchema da Tabela Gold (Por Batalhão):\")\n",
    "gold_by_battalion_df.printSchema()\n",
    "print(f\"Total de registros na Gold (Por Batalhão): {gold_by_battalion_df.count()}\")\n",
    "\n",
    "# Salvando a tabela Gold por Batalhão\n",
    "gold_by_battalion_df.write \\\n",
    "                    .format(\"delta\") \\\n",
    "                    .mode(\"overwrite\") \\\n",
    "                    .option(\"overwriteSchema\", \"true\") \\\n",
    "                    .option(\"delta.columnMapping.mode\", \"name\") \\\n",
    "                    .saveAsTable(gold_agg_by_battalion_simple)\n",
    "print(f\"Tabela Gold '{gold_agg_by_battalion_full}' salva com sucesso.\")\n",
    "\n",
    "print(\"\\nAgregações da Camada Gold concluídas com sucesso!\")"
   ]
  },
  {
   "cell_type": "code",
   "execution_count": 0,
   "metadata": {
    "application/vnd.databricks.v1+cell": {
     "cellMetadata": {
      "byteLimit": 2048000,
      "rowLimit": 10000
     },
     "inputWidgets": {},
     "nuid": "9b2325a3-1d54-4c61-b5c4-627adf75b85e",
     "showTitle": false,
     "tableResultSettingsMap": {},
     "title": ""
    }
   },
   "outputs": [],
   "source": [
    "# Verificação Final das Tabelas Gold\n",
    "print(\"\\n--- Verificando a Tabela Gold: Por Tempo (Ano/Mês) ---\")\n",
    "final_gold_by_time_df = spark.table(gold_agg_by_time_simple)\n",
    "display(final_gold_by_time_df.orderBy(\"incident_year\", \"incident_month\").limit(10))\n",
    "\n",
    "print(\"\\n--- Verificando a Tabela Gold: Por Distrito ---\")\n",
    "final_gold_by_district_df = spark.table(gold_agg_by_district_simple)\n",
    "display(final_gold_by_district_df.orderBy(col(\"total_incidents\").desc()).limit(10))\n",
    "\n",
    "print(\"\\n--- Verificando a Tabela Gold: Por Batalhão ---\")\n",
    "final_gold_by_battalion_df = spark.table(gold_agg_by_battalion_simple)\n",
    "display(final_gold_by_battalion_df.orderBy(col(\"total_incidents\").desc()).limit(10))\n",
    "\n",
    "print(\"As tabelas agregadas estão prontas para consumo.\")"
   ]
  }
 ],
 "metadata": {
  "application/vnd.databricks.v1+notebook": {
   "computePreferences": null,
   "dashboards": [],
   "environmentMetadata": {
    "base_environment": "",
    "environment_version": "2"
   },
   "inputWidgetPreferences": null,
   "language": "python",
   "notebookMetadata": {
    "pythonIndentUnit": 4
   },
   "notebookName": "3-Camada_Gold",
   "widgets": {}
  },
  "language_info": {
   "name": "python"
  }
 },
 "nbformat": 4,
 "nbformat_minor": 0
}
